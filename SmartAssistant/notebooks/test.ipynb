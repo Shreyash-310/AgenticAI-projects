{
 "cells": [
  {
   "cell_type": "code",
   "execution_count": null,
   "id": "1a3dd835",
   "metadata": {},
   "outputs": [],
   "source": [
    "import os\n",
    "from langchain.prompts import ChatPromptTemplate\n",
    "from langchain.output_parsers import StructuredOutputParser, ResponseSchema\n",
    "from langchain_google_genai import ChatGoogleGenerativeAI\n",
    "\n",
    "from dotenv import load_dotenv\n",
    "load_dotenv(dotenv_path='D:/GenAI-Practice/AgenticAI-Projects/SmartAssistant/.env')"
   ]
  },
  {
   "cell_type": "code",
   "execution_count": null,
   "id": "3f9a5d01",
   "metadata": {},
   "outputs": [],
   "source": [
    "llm = ChatGoogleGenerativeAI(model=\"gemini-2.5-flash\",\n",
    "                             api_key=os.getenv('GOOGLE_API_KEY'))"
   ]
  },
  {
   "cell_type": "code",
   "execution_count": null,
   "id": "9d33a763",
   "metadata": {},
   "outputs": [],
   "source": [
    "schemas = [\n",
    "    ResponseSchema(name=\"query_type\", description=\"The category of query. Should be one of: rag, db, llm.\"),\n",
    "    ResponseSchema(name=\"reason\", description=\"Reason why the query belongs to this category.\")\n",
    "]\n",
    "\n",
    "parser = StructuredOutputParser.from_response_schemas(schemas)\n",
    "format_instructions = parser.get_format_instructions()\n",
    "\n",
    "prompt = ChatPromptTemplate.from_template(\n",
    "    \"\"\"\n",
    "    You are a query classification expert.\n",
    "    Given a user's query, classify it into one of the following:\n",
    "    - rag → if it needs knowledge from uploaded documents\n",
    "    - db → if it needs database lookup or business data\n",
    "    - llm → if it’s a general question not needing external data.\n",
    "\n",
    "    Query: {query}\n",
    "\n",
    "    {format_instructions}\n",
    "    \"\"\"\n",
    ")"
   ]
  },
  {
   "cell_type": "code",
   "execution_count": null,
   "id": "3cdeffdc",
   "metadata": {},
   "outputs": [],
   "source": [
    "messages = prompt.format_messages(query=\"Can you summarize this section from document?\", format_instructions=format_instructions)\n",
    "response = llm(messages)\n",
    "\n",
    "print(f\"response \\n{response}\")"
   ]
  },
  {
   "cell_type": "code",
   "execution_count": null,
   "id": "327fecf6",
   "metadata": {},
   "outputs": [],
   "source": [
    "response.keys"
   ]
  },
  {
   "cell_type": "markdown",
   "id": "092ee291",
   "metadata": {},
   "source": [
    "### testing the SQL agent"
   ]
  },
  {
   "cell_type": "code",
   "execution_count": null,
   "id": "1ea7e9a8",
   "metadata": {},
   "outputs": [
    {
     "name": "stderr",
     "output_type": "stream",
     "text": [
      "d:\\GenAI-Practice\\env_RAG\\Lib\\site-packages\\tqdm\\auto.py:21: TqdmWarning: IProgress not found. Please update jupyter and ipywidgets. See https://ipywidgets.readthedocs.io/en/stable/user_install.html\n",
      "  from .autonotebook import tqdm as notebook_tqdm\n"
     ]
    },
    {
     "data": {
      "text/plain": [
       "True"
      ]
     },
     "execution_count": 1,
     "metadata": {},
     "output_type": "execute_result"
    }
   ],
   "source": [
    "import os\n",
    "from langchain_community.agent_toolkits import create_sql_agent\n",
    "from langchain_community.utilities import SQLDatabase\n",
    "from langchain_community.agent_toolkits.sql.base import SQLDatabaseToolkit\n",
    "from langchain_google_genai import ChatGoogleGenerativeAI\n",
    "from langchain_community.chat_models import ChatHuggingFace\n",
    "from transformers import pipeline\n",
    "from langchain_groq import ChatGroq\n",
    "\n",
    "from dotenv import load_dotenv\n",
    "load_dotenv(dotenv_path='D:/GenAI-Practice/AgenticAI-Projects/SmartAssistant/.env')"
   ]
  },
  {
   "cell_type": "code",
   "execution_count": 2,
   "id": "0bf53475",
   "metadata": {},
   "outputs": [
    {
     "name": "stdout",
     "output_type": "stream",
     "text": [
      "\n",
      "\n",
      "\u001b[1m> Entering new SQL Agent Executor chain...\u001b[0m\n",
      "\u001b[32;1m\u001b[1;3m\n",
      "Invoking: `sql_db_list_tables` with `{'tool_input': ''}`\n",
      "responded:   Then I should double check my query before running it to get the answer.\n",
      "\n",
      "\n",
      "\n",
      "\u001b[0m\u001b[38;5;200m\u001b[1;3maccounts, branch_locations, credit_cards, credit_exposures, customers, employees, insurance_policies, investments, loans, transactions\u001b[0m\u001b[32;1m\u001b[1;3m\n",
      "Invoking: `sql_db_schema` with `{'table_names': 'branches, branch_locations'}`\n",
      "responded:   Then I should double check my query before running it to get the answer.\n",
      "\n",
      "\n",
      "\n",
      "\u001b[0m\u001b[33;1m\u001b[1;3mError: table_names {'branches'} not found in database\u001b[0m\u001b[32;1m\u001b[1;3m\n",
      "Invoking: `sql_db_query_checker` with `{'query': 'SELECT COUNT(*) FROM branch_locations;'}`\n",
      "responded:   Then I should double check my query before running it to get the answer.\n",
      "\n",
      "\n",
      "\n",
      "\u001b[0m\u001b[36;1m\u001b[1;3m```sql\n",
      "SELECT COUNT(*) FROM branch_locations;\n",
      "```\u001b[0m\u001b[32;1m\u001b[1;3m\n",
      "Invoking: `sql_db_query` with `{'query': 'SELECT COUNT(*) FROM branch_locations;'}`\n",
      "responded:   Then I should double check my query before running it to get the answer.\n",
      "\n",
      "\n",
      "\n",
      "\u001b[0m\u001b[36;1m\u001b[1;3m[(10,)]\u001b[0m\u001b[32;1m\u001b[1;3mThere are 10 branch locations.\u001b[0m\n",
      "\n",
      "\u001b[1m> Finished chain.\u001b[0m\n"
     ]
    }
   ],
   "source": [
    "# Load database\n",
    "db = SQLDatabase.from_uri(\"sqlite:///D:/GenAI-Practice/AgenticAI-Projects/SmartAssistant/app/data/uploads/bank_domain.db\")\n",
    "\n",
    "# Create toolkit for SQL agent\n",
    "# LLM = ChatGoogleGenerativeAI(model=\"gemini-2.5-pro\", api_key=os.getenv('GOOGLE_API_KEY'))\n",
    "# pipe = pipeline(\"text-generation\", model=\"HuggingFaceH4/zephyr-7b-beta\")\n",
    "# LLM = ChatHuggingFace(pipeline=pipe)\n",
    "# llm=ChatGroq(model=\"llama3-70b-8192\")\n",
    "LLM = ChatGroq(\n",
    "    temperature = 0,\n",
    "    groq_api_key = os.getenv(\"groq_api_key\"),\n",
    "    model_name = os.getenv(\"llama_model_name\")\n",
    ")\n",
    "toolkit = SQLDatabaseToolkit(db=db, llm=LLM)\n",
    "\n",
    "# Create the SQL agent\n",
    "agent_executor = create_sql_agent(\n",
    "    llm=toolkit.llm,\n",
    "    toolkit=toolkit,\n",
    "    verbose=True,\n",
    "    agent_type=\"openai-tools\",  # works well with Gemini too\n",
    ")\n",
    "\n",
    "# Run query\n",
    "query = \"Total how many branch locations are there?\"\n",
    "response = agent_executor.invoke({\"input\": query})\n",
    "\n",
    "# Update chatbot state\n",
    "answer = response[\"output\"]"
   ]
  },
  {
   "cell_type": "code",
   "execution_count": 3,
   "id": "9be84fec",
   "metadata": {},
   "outputs": [
    {
     "data": {
      "text/plain": [
       "'There are 10 branch locations.'"
      ]
     },
     "execution_count": 3,
     "metadata": {},
     "output_type": "execute_result"
    }
   ],
   "source": [
    "answer"
   ]
  },
  {
   "cell_type": "code",
   "execution_count": null,
   "id": "bbb00a62",
   "metadata": {},
   "outputs": [],
   "source": []
  }
 ],
 "metadata": {
  "kernelspec": {
   "display_name": "env_RAG (3.12.8)",
   "language": "python",
   "name": "python3"
  },
  "language_info": {
   "codemirror_mode": {
    "name": "ipython",
    "version": 3
   },
   "file_extension": ".py",
   "mimetype": "text/x-python",
   "name": "python",
   "nbconvert_exporter": "python",
   "pygments_lexer": "ipython3",
   "version": "3.12.8"
  }
 },
 "nbformat": 4,
 "nbformat_minor": 5
}
