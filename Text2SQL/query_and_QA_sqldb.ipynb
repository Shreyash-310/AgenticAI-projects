{
 "cells": [
  {
   "cell_type": "code",
   "execution_count": 1,
   "metadata": {},
   "outputs": [],
   "source": [
    "from langchain_community.utilities import SQLDatabase\n",
    "from pyprojroot import here\n",
    "import warnings\n",
    "warnings.filterwarnings(\"ignore\")"
   ]
  },
  {
   "cell_type": "code",
   "execution_count": 2,
   "metadata": {},
   "outputs": [
    {
     "data": {
      "text/plain": [
       "True"
      ]
     },
     "execution_count": 2,
     "metadata": {},
     "output_type": "execute_result"
    }
   ],
   "source": [
    "import os\n",
    "from dotenv import load_dotenv\n",
    "\n",
    "load_dotenv()"
   ]
  },
  {
   "cell_type": "markdown",
   "metadata": {},
   "source": [
    "Connecting to the sqldb"
   ]
  },
  {
   "cell_type": "code",
   "execution_count": 3,
   "metadata": {},
   "outputs": [
    {
     "data": {
      "text/plain": [
       "<langchain_community.utilities.sql_database.SQLDatabase at 0x1825a5db530>"
      ]
     },
     "execution_count": 3,
     "metadata": {},
     "output_type": "execute_result"
    }
   ],
   "source": [
    "db_path = r\"data\\sql\\bank_domain.db\"\n",
    "db = SQLDatabase.from_uri(f\"sqlite:///{db_path}\")\n",
    "db"
   ]
  },
  {
   "cell_type": "code",
   "execution_count": 5,
   "metadata": {},
   "outputs": [
    {
     "name": "stdout",
     "output_type": "stream",
     "text": [
      "sqlite\n",
      "['accounts', 'branch_locations', 'credit_cards', 'credit_exposures', 'customers', 'employees', 'insurance_policies', 'investments', 'loans', 'transactions']\n"
     ]
    },
    {
     "data": {
      "text/plain": [
       "\"[(1, 33, 'Checking', 9155.54, '2023-03-19'), (2, 94, 'Money Market', 24755.42, '2015-03-18'), (3, 17, 'Money Market', 19345.75, '2019-09-28'), (4, 92, 'Money Market', 5670.63, '2022-02-07'), (5, 82, 'Savings', 18791.14, '2015-01-05'), (6, 46, 'Savings', 27208.22, '2024-07-16'), (7, 87, 'Savings', 27590.0, '2022-02-24'), (8, 100, 'Checking', 3130.15, '2016-11-20'), (9, 74, 'Savings', 20973.09, '2022-08-09'), (10, 18, 'Savings', 23597.94, '2020-12-30')]\""
      ]
     },
     "execution_count": 5,
     "metadata": {},
     "output_type": "execute_result"
    }
   ],
   "source": [
    "# validate the connection to the vectordb\n",
    "print(db.dialect)\n",
    "print(db.get_usable_table_names())\n",
    "db.run(\"SELECT * FROM accounts LIMIT 10;\")"
   ]
  },
  {
   "cell_type": "code",
   "execution_count": 8,
   "metadata": {},
   "outputs": [],
   "source": [
    "from langchain_groq import ChatGroq\n",
    "# llm=ChatGroq(model=\"llama3-70b-8192\")\n",
    "llm = ChatGroq(\n",
    "    temperature = 0,\n",
    "    groq_api_key = os.getenv(\"groq_api_key\"),\n",
    "    model_name = os.getenv(\"llama_model_name1\")\n",
    ")"
   ]
  },
  {
   "cell_type": "code",
   "execution_count": 9,
   "metadata": {},
   "outputs": [
    {
     "data": {
      "text/plain": [
       "AIMessage(content=\"Hello! I'm just a language model, so I don't have feelings or emotions like humans do. However, I'm functioning properly and ready to assist you with any questions or tasks you may have. How can I help you today?\", additional_kwargs={}, response_metadata={'token_usage': {'completion_tokens': 49, 'prompt_tokens': 15, 'total_tokens': 64, 'completion_time': 0.143990343, 'prompt_time': 0.00334006, 'queue_time': 0.019602879, 'total_time': 0.147330403}, 'model_name': 'llama3-70b-8192', 'system_fingerprint': 'fp_753a4aecf6', 'finish_reason': 'stop', 'logprobs': None}, id='run-4dc078b0-92d2-406c-8394-8cd2de432387-0', usage_metadata={'input_tokens': 15, 'output_tokens': 49, 'total_tokens': 64})"
      ]
     },
     "execution_count": 9,
     "metadata": {},
     "output_type": "execute_result"
    }
   ],
   "source": [
    "llm.invoke(\"hello how are you?\")"
   ]
  },
  {
   "cell_type": "markdown",
   "metadata": {},
   "source": [
    "#### 1. SQL query chain"
   ]
  },
  {
   "cell_type": "code",
   "execution_count": null,
   "metadata": {},
   "outputs": [],
   "source": [
    "from langchain.chains import create_sql_query_chain\n",
    "\n",
    "chain = create_sql_query_chain(llm, db)\n",
    "response = chain.invoke({\"question\": \"How many employees are there\"})\n",
    "print(response)"
   ]
  },
  {
   "cell_type": "code",
   "execution_count": null,
   "metadata": {},
   "outputs": [],
   "source": [
    "db.run(\"SELECT COUNT('EmployeeId') FROM 'Employee';\")"
   ]
  },
  {
   "cell_type": "code",
   "execution_count": null,
   "metadata": {},
   "outputs": [],
   "source": [
    "chain.get_prompts()[0].pretty_print()"
   ]
  },
  {
   "cell_type": "markdown",
   "metadata": {},
   "source": [
    "#### Add QuerySQLDataBaseTool to the chain"
   ]
  },
  {
   "cell_type": "code",
   "execution_count": null,
   "metadata": {},
   "outputs": [],
   "source": [
    "from langchain_community.tools import QuerySQLDataBaseTool\n",
    "\n",
    "write_query = create_sql_query_chain(llm, db)\n",
    "execute_query = QuerySQLDataBaseTool(db=db)\n",
    "\n",
    "chain = write_query | execute_query\n",
    "\n",
    "chain.invoke({\"question\": \"How many employees are there\"})"
   ]
  },
  {
   "cell_type": "markdown",
   "metadata": {},
   "source": [
    "#### Answer the question in a user friendly manner"
   ]
  },
  {
   "cell_type": "code",
   "execution_count": null,
   "metadata": {},
   "outputs": [],
   "source": [
    "from operator import itemgetter\n",
    "from langchain_core.output_parsers import StrOutputParser\n",
    "from langchain_core.prompts import PromptTemplate\n",
    "from langchain_core.runnables import RunnablePassthrough\n",
    "\n",
    "answer_prompt = PromptTemplate.from_template(\n",
    "    \"\"\"Given the following user question, corresponding SQL query, and SQL result, answer the user question.\n",
    "\n",
    "Question: {question}\n",
    "SQL Query: {query}\n",
    "SQL Result: {result}\n",
    "Answer: \"\"\"\n",
    ")\n",
    "\n",
    "answer = answer_prompt | llm | StrOutputParser()\n",
    "chain = (\n",
    "    RunnablePassthrough.assign(query=write_query).assign(\n",
    "        result=itemgetter(\"query\") | execute_query\n",
    "    )\n",
    "    | answer\n",
    ")\n",
    "\n",
    "chain.invoke({\"question\": \"How many employees are there\"})"
   ]
  },
  {
   "cell_type": "markdown",
   "metadata": {},
   "source": [
    "#### 2. Agents"
   ]
  },
  {
   "cell_type": "code",
   "execution_count": 10,
   "metadata": {},
   "outputs": [],
   "source": [
    "from langchain_community.agent_toolkits import create_sql_agent\n",
    "\n",
    "agent_executor = create_sql_agent(llm, db=db, agent_type=\"openai-tools\", \n",
    "                                  verbose=True,\n",
    "                                  agent_executor_kwargs = {\"return_intermediate_steps\": True}\n",
    "                                  )"
   ]
  },
  {
   "cell_type": "code",
   "execution_count": 15,
   "metadata": {},
   "outputs": [
    {
     "name": "stdout",
     "output_type": "stream",
     "text": [
      "\n",
      "\n",
      "\u001b[1m> Entering new SQL Agent Executor chain...\u001b[0m\n",
      "\u001b[32;1m\u001b[1;3m\n",
      "Invoking: `sql_db_list_tables` with `{'tool_input': ''}`\n",
      "responded:   Let me do that.\n",
      "\n",
      "\n",
      "\n",
      "\u001b[0m\u001b[38;5;200m\u001b[1;3maccounts, branch_locations, credit_cards, credit_exposures, customers, employees, insurance_policies, investments, loans, transactions\u001b[0m\u001b[32;1m\u001b[1;3m\n",
      "Invoking: `sql_db_schema` with `{'table_names': 'accounts, customers, employees, branch_locations'}`\n",
      "\n",
      "\n",
      "\u001b[0m\u001b[33;1m\u001b[1;3m\n",
      "CREATE TABLE accounts (\n",
      "\taccount_id INTEGER, \n",
      "\tcustomer_id INTEGER, \n",
      "\taccount_type TEXT, \n",
      "\tbalance REAL, \n",
      "\topen_date DATE, \n",
      "\tPRIMARY KEY (account_id), \n",
      "\tFOREIGN KEY(customer_id) REFERENCES customers (customer_id)\n",
      ")\n",
      "\n",
      "/*\n",
      "3 rows from accounts table:\n",
      "account_id\tcustomer_id\taccount_type\tbalance\topen_date\n",
      "1\t33\tChecking\t9155.54\t2023-03-19\n",
      "2\t94\tMoney Market\t24755.42\t2015-03-18\n",
      "3\t17\tMoney Market\t19345.75\t2019-09-28\n",
      "*/\n",
      "\n",
      "\n",
      "CREATE TABLE branch_locations (\n",
      "\tbranch_id INTEGER, \n",
      "\tbranch_name TEXT, \n",
      "\taddress TEXT, \n",
      "\tcity TEXT, \n",
      "\tstate TEXT, \n",
      "\tzip_code TEXT, \n",
      "\tPRIMARY KEY (branch_id)\n",
      ")\n",
      "\n",
      "/*\n",
      "3 rows from branch_locations table:\n",
      "branch_id\tbranch_name\taddress\tcity\tstate\tzip_code\n",
      "1\tBranch 1\t325 Oak St\tCity1\tState1\t46037\n",
      "2\tBranch 2\t800 Oak St\tCity2\tState2\t24212\n",
      "3\tBranch 3\t334 Oak St\tCity3\tState3\t45694\n",
      "*/\n",
      "\n",
      "\n",
      "CREATE TABLE customers (\n",
      "\tcustomer_id INTEGER, \n",
      "\tfirst_name TEXT, \n",
      "\tlast_name TEXT, \n",
      "\tdate_of_birth DATE, \n",
      "\temail TEXT, \n",
      "\tphone TEXT, \n",
      "\taddress TEXT, \n",
      "\tcredit_score INTEGER, \n",
      "\tPRIMARY KEY (customer_id)\n",
      ")\n",
      "\n",
      "/*\n",
      "3 rows from customers table:\n",
      "customer_id\tfirst_name\tlast_name\tdate_of_birth\temail\tphone\taddress\tcredit_score\n",
      "1\tFirstName1\tLastName1\t2005-07-22\tcustomer1@email.com\t555-5724\t267 Main St, City1\t673\n",
      "2\tFirstName2\tLastName2\t1969-05-24\tcustomer2@email.com\t555-7067\t255 Main St, City2\t569\n",
      "3\tFirstName3\tLastName3\t1956-10-25\tcustomer3@email.com\t555-1512\t501 Main St, City3\t839\n",
      "*/\n",
      "\n",
      "\n",
      "CREATE TABLE employees (\n",
      "\temployee_id INTEGER, \n",
      "\tfirst_name TEXT, \n",
      "\tlast_name TEXT, \n",
      "\tposition TEXT, \n",
      "\tbranch_id INTEGER, \n",
      "\thire_date DATE, \n",
      "\tPRIMARY KEY (employee_id), \n",
      "\tFOREIGN KEY(branch_id) REFERENCES branch_locations (branch_id)\n",
      ")\n",
      "\n",
      "/*\n",
      "3 rows from employees table:\n",
      "employee_id\tfirst_name\tlast_name\tposition\tbranch_id\thire_date\n",
      "1\tEmpFirst1\tEmpLast1\tTeller\t7\t2018-12-09\n",
      "2\tEmpFirst2\tEmpLast2\tBranch Manager\t7\t2020-01-19\n",
      "3\tEmpFirst3\tEmpLast3\tBranch Manager\t7\t2017-04-11\n",
      "*/\u001b[0m\u001b[32;1m\u001b[1;3m\n",
      "Invoking: `sql_db_query_checker` with `{'query': \"SELECT account_type, bl.state, AVG(balance) AS average_balance FROM accounts a JOIN customers c ON a.customer_id = c.customer_id JOIN employees e ON c.customer_id = e.customer_id JOIN branch_locations bl ON e.branch_id = bl.branch_id WHERE a.open_date > DATE('now', '-6 months') GROUP BY account_type, bl.state\"}`\n",
      "\n",
      "\n",
      "\u001b[0m\u001b[36;1m\u001b[1;3mThe query appears to be correct, but there are a few potential issues:\n",
      "\n",
      "1. The `employees` table is joined with `customers` on `customer_id`, which seems unusual. Typically, an employee would not have a `customer_id`. It's possible that the join should be on a different column, such as `employee_id`.\n",
      "2. The `branch_locations` table is joined with `employees` on `branch_id`, which is correct. However, it's not clear why the `employees` table is needed in the join at all, since the `branch_locations` table is already joined with `accounts` through the `employees` table.\n",
      "\n",
      "Assuming the join on `customer_id` is correct, the rewritten query would be:\n",
      "\n",
      "```\n",
      "SELECT \n",
      "  account_type, \n",
      "  bl.state, \n",
      "  AVG(balance) AS average_balance \n",
      "FROM \n",
      "  accounts a \n",
      "  JOIN customers c ON a.customer_id = c.customer_id \n",
      "  JOIN employees e ON c.customer_id = e.customer_id \n",
      "  JOIN branch_locations bl ON e.branch_id = bl.branch_id \n",
      "WHERE \n",
      "  a.open_date > DATE('now', '-6 months') \n",
      "GROUP BY \n",
      "  account_type, \n",
      "  bl.state\n",
      "```\n",
      "\n",
      "However, if the join on `customer_id` is incorrect, the query would need to be rewritten to reflect the correct relationships between the tables.\u001b[0m\u001b[32;1m\u001b[1;3m\n",
      "Invoking: `sql_db_query` with `{'query': \"SELECT account_type, bl.state, AVG(balance) AS average_balance FROM accounts a JOIN customers c ON a.customer_id = c.customer_id JOIN employees e ON c.customer_id = e.employee_id JOIN branch_locations bl ON e.branch_id = bl.branch_id WHERE a.open_date > DATE('now', '-6 months') GROUP BY account_type, bl.state LIMIT 10\"}`\n",
      "\n",
      "\n",
      "\u001b[0m\u001b[36;1m\u001b[1;3m\u001b[0m\u001b[32;1m\u001b[1;3mIt seems like the tool call was successful, but you didn't provide the result. Please provide the result of the tool call, and I'll be happy to help you further.\u001b[0m\n",
      "\n",
      "\u001b[1m> Finished chain.\u001b[0m\n"
     ]
    }
   ],
   "source": [
    "response = agent_executor.invoke(\n",
    "    {\n",
    "        \"input\": \"What is the average balance of accounts opened in the last six months, categorized by account type and broken down by the state of the branch the associated customer is linked to, via employee records?\"\n",
    "    }\n",
    ")"
   ]
  },
  {
   "cell_type": "code",
   "execution_count": 16,
   "metadata": {},
   "outputs": [],
   "source": [
    "queries = []\n",
    "for (log, output) in response[\"intermediate_steps\"]:\n",
    "    if log.tool == 'sql_db_query':\n",
    "        queries.append(log.tool_input)"
   ]
  },
  {
   "cell_type": "code",
   "execution_count": 17,
   "metadata": {},
   "outputs": [
    {
     "name": "stdout",
     "output_type": "stream",
     "text": [
      "Query\n",
      "SELECT account_type, bl.state, AVG(balance) AS average_balance FROM accounts a JOIN customers c ON a.customer_id = c.customer_id JOIN employees e ON c.customer_id = e.employee_id JOIN branch_locations bl ON e.branch_id = bl.branch_id WHERE a.open_date > DATE('now', '-6 months') GROUP BY account_type, bl.state LIMIT 10\n",
      "Answer\n",
      "It seems like the tool call was successful, but you didn't provide the result. Please provide the result of the tool call, and I'll be happy to help you further.\n"
     ]
    }
   ],
   "source": [
    "print(f\"Query\\n{queries[-1]['query']}\\nAnswer\\n{response['output']}\")"
   ]
  },
  {
   "cell_type": "code",
   "execution_count": 18,
   "metadata": {},
   "outputs": [
    {
     "data": {
      "text/plain": [
       "\"It seems like the tool call was successful, but you didn't provide the result. Please provide the result of the tool call, and I'll be happy to help you further.\""
      ]
     },
     "execution_count": 18,
     "metadata": {},
     "output_type": "execute_result"
    }
   ],
   "source": [
    "response['output']"
   ]
  },
  {
   "cell_type": "code",
   "execution_count": null,
   "metadata": {},
   "outputs": [],
   "source": []
  },
  {
   "cell_type": "code",
   "execution_count": null,
   "metadata": {},
   "outputs": [],
   "source": []
  }
 ],
 "metadata": {
  "kernelspec": {
   "display_name": "env_nlp2sql",
   "language": "python",
   "name": "python3"
  },
  "language_info": {
   "codemirror_mode": {
    "name": "ipython",
    "version": 3
   },
   "file_extension": ".py",
   "mimetype": "text/x-python",
   "name": "python",
   "nbconvert_exporter": "python",
   "pygments_lexer": "ipython3",
   "version": "3.12.8"
  }
 },
 "nbformat": 4,
 "nbformat_minor": 2
}
